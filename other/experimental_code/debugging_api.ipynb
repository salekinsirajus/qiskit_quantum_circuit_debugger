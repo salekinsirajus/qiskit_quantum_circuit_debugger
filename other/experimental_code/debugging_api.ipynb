{
 "cells": [
  {
   "cell_type": "code",
   "execution_count": 1,
   "id": "0e3744ca-d4ae-46d5-9570-81cad52ab74c",
   "metadata": {},
   "outputs": [],
   "source": [
    "from qiskit import QuantumCircuit, QuantumRegister, ClassicalRegister"
   ]
  },
  {
   "cell_type": "code",
   "execution_count": 2,
   "id": "86d353e4-de06-4a05-b865-9ff590c23f7b",
   "metadata": {},
   "outputs": [],
   "source": [
    "class QCDebug(QuantumCircuit):\n",
    "    \n",
    "    def __init__(self, *args, **kwargs):\n",
    "        self.has_breakpoints = False\n",
    "        # no need to do anything if there was no breakpoints\n",
    "        super(QCDebug, self).__init__(*args, **kwargs)\n",
    "            \n",
    "    def bp(self):\n",
    "        # replicate the circuit\n",
    "        self.has_breakpoints = True\n",
    "        nqubits = self.num_qubits\n",
    "        \n",
    "        # create a register with ancilla qubits\n",
    "        debug_register = QuantumRegister(nqubits, \"ancilla\")\n",
    "        self.add_register(debug_register)\n",
    "        for q in range(nqubits):\n",
    "            qpe_reigster = QuantumRegister(3, \"qpe\")\n",
    "            self.h(debug_register[q])\n",
    "            \n",
    "\n",
    "        self.draw('mpl')\n",
    "    \n",
    "    # TODO: if we add a new ancilla qubit we need to ensure\n",
    "    # that it is not accessible from the POV of the user2"
   ]
  },
  {
   "cell_type": "code",
   "execution_count": 190,
   "id": "9f4c200e-d94c-440d-b9aa-68ebf8a644c8",
   "metadata": {},
   "outputs": [
    {
     "data": {
      "text/plain": [
       "<qiskit.circuit.instructionset.InstructionSet at 0x7f2da854fe50>"
      ]
     },
     "execution_count": 190,
     "metadata": {},
     "output_type": "execute_result"
    }
   ],
   "source": [
    "from math import pi\n",
    "\n",
    "qc = QCDebug(1)\n",
    "qc.x(0)\n",
    "qc.z(0)\n",
    "#6qc.rz(pi/2, 0)\n",
    "#qc.h()"
   ]
  },
  {
   "cell_type": "code",
   "execution_count": 191,
   "id": "7bfc17f5-a7c4-49bc-aa17-4d81d6a84c17",
   "metadata": {},
   "outputs": [
    {
     "data": {
      "text/html": [
       "<pre style=\"word-wrap: normal;white-space: pre;background: #fff0;line-height: 1.1;font-family: &quot;Courier New&quot;,Courier,monospace\">         ┌───┐┌───┐        \n",
       "      q: ┤ X ├┤ Z ├─■──────\n",
       "         ├───┤└───┘ │ ┌───┐\n",
       "ancilla: ┤ H ├──────■─┤ H ├\n",
       "         └───┘        └───┘</pre>"
      ],
      "text/plain": [
       "         ┌───┐┌───┐        \n",
       "      q: ┤ X ├┤ Z ├─■──────\n",
       "         ├───┤└───┘ │ ┌───┐\n",
       "ancilla: ┤ H ├──────■─┤ H ├\n",
       "         └───┘        └───┘"
      ]
     },
     "execution_count": 191,
     "metadata": {},
     "output_type": "execute_result"
    }
   ],
   "source": [
    "qc.bp()\n",
    "qc.draw()"
   ]
  },
  {
   "cell_type": "code",
   "execution_count": 192,
   "id": "ac35d88a-d8c7-4308-b292-5f291609557f",
   "metadata": {},
   "outputs": [],
   "source": [
    "qc.measure_all()"
   ]
  },
  {
   "cell_type": "code",
   "execution_count": 193,
   "id": "09c5f145-2732-4e7f-8d82-6130f9ccb591",
   "metadata": {},
   "outputs": [],
   "source": [
    "from qiskit import Aer, execute\n",
    "\n",
    "backend = Aer.get_backend(\"qasm_simulator\")\n",
    "job = execute(qc, backend)\n",
    "result = job.result()"
   ]
  },
  {
   "cell_type": "code",
   "execution_count": 194,
   "id": "13c9570f-4a53-43c7-8054-c6dfa25b1bb1",
   "metadata": {},
   "outputs": [
    {
     "data": {
      "text/plain": [
       "{'11': 1024}"
      ]
     },
     "execution_count": 194,
     "metadata": {},
     "output_type": "execute_result"
    }
   ],
   "source": [
    "result.get_counts()"
   ]
  },
  {
   "cell_type": "code",
   "execution_count": 195,
   "id": "3e66efe2-7e47-43c0-a998-f4bd9cc92cb3",
   "metadata": {},
   "outputs": [
    {
     "data": {
      "image/png": "[encoded data removed]",
      "text/plain": [
       "<Figure size 700x500 with 1 Axes>"
      ]
     },
     "execution_count": 195,
     "metadata": {},
     "output_type": "execute_result"
    }
   ],
   "source": [
    "from qiskit.visualization import plot_histogram\n",
    "plot_histogram(result.get_counts())"
   ]
  }
 ],
 "metadata": {
  "kernelspec": {
   "display_name": "Python 3 (ipykernel)",
   "language": "python",
   "name": "python3"
  },
  "language_info": {
   "codemirror_mode": {
    "name": "ipython",
    "version": 3
   },
   "file_extension": ".py",
   "mimetype": "text/x-python",
   "name": "python",
   "nbconvert_exporter": "python",
   "pygments_lexer": "ipython3",
   "version": "3.9.13"
  }
 },
 "nbformat": 4,
 "nbformat_minor": 5
}
